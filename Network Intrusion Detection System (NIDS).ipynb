{
  "cells": [
    {
      "cell_type": "markdown",
      "metadata": {
        "id": "wZ-aL-urL6LY"
      },
      "source": [
        "#Libraries"
      ]
    },
    {
      "cell_type": "code",
      "execution_count": 26,
      "metadata": {
        "id": "PxiaospBLzjr"
      },
      "outputs": [],
      "source": [
        "# General and data manipulation\n",
        "import os\n",
        "from pathlib import Path\n",
        "import numpy as np\n",
        "import pandas as pd\n",
        "import seaborn as sns\n",
        "import matplotlib.pyplot as plt\n",
        "\n",
        "# Scikit-learn for preprocessing, modeling, and evaluation\n",
        "from sklearn.preprocessing import StandardScaler, LabelEncoder\n",
        "from sklearn.model_selection import train_test_split, GridSearchCV\n",
        "from sklearn.metrics import classification_report, accuracy_score, confusion_matrix, make_scorer, f1_score\n",
        "\n",
        "# Machine Learning Models\n",
        "from sklearn.linear_model import LogisticRegression\n",
        "from sklearn.tree import DecisionTreeClassifier\n",
        "from sklearn.ensemble import RandomForestClassifier, VotingClassifier, IsolationForest\n",
        "from sklearn.neighbors import KNeighborsClassifier, LocalOutlierFactor\n",
        "from sklearn.svm import SVC\n",
        "import lightgbm as lgb\n",
        "\n",
        "# Imbalanced-learn for handling class imbalance\n",
        "from imblearn.over_sampling import SMOTE\n",
        "from imblearn.under_sampling import RandomUnderSampler\n",
        "from imblearn.pipeline import Pipeline as ImblearnPipeline\n",
        "\n",
        "# TensorFlow and Keras for Deep Learning\n",
        "import tensorflow as tf\n",
        "from tensorflow.keras.models import Model, Sequential\n",
        "from tensorflow.keras.optimizers import Adam\n",
        "from tensorflow.keras.layers import Input, Dense, Conv1D, MaxPooling1D, Flatten, LSTM, Dropout\n",
        "from tensorflow.keras.utils import to_categorical\n",
        "import keras_tuner as kt"
      ]
    },
    {
      "cell_type": "markdown",
      "metadata": {
        "id": "GM7O9-_hNAFm"
      },
      "source": [
        "#Data loading"
      ]
    },
    {
      "cell_type": "code",
      "execution_count": null,
      "metadata": {},
      "outputs": [],
      "source": [
        "DATA_DIR = Path(os.getenv(\"DATA_DIR\", \"./CICIDS2017\"))\n",
        "DATA_DIR.mkdir(parents=True, exist_ok=True)"
      ]
    },
    {
      "cell_type": "code",
      "execution_count": 12,
      "metadata": {
        "colab": {
          "base_uri": "https://localhost:8080/"
        },
        "id": "bLIjkUoYME-A",
        "outputId": "6addf7df-4233-4dbe-edcf-01c9f2316e35"
      },
      "outputs": [
        {
          "name": "stdout",
          "output_type": "stream",
          "text": [
            "Initial dataset dimensions: (2830743, 79)\n"
          ]
        }
      ],
      "source": [
        "data_paths = [\n",
        "    DATA_DIR / \"Monday-WorkingHours.pcap_ISCX.csv\",\n",
        "    DATA_DIR / \"Tuesday-WorkingHours.pcap_ISCX.csv\",\n",
        "    DATA_DIR / \"Wednesday-workingHours.pcap_ISCX.csv\",\n",
        "    DATA_DIR / \"Thursday-WorkingHours-Afternoon-Infilteration.pcap_ISCX.csv\",\n",
        "    DATA_DIR / \"Thursday-WorkingHours-Morning-WebAttacks.pcap_ISCX.csv\",\n",
        "    DATA_DIR / \"Friday-WorkingHours-Afternoon-DDos.pcap_ISCX.csv\",\n",
        "    DATA_DIR / \"Friday-WorkingHours-Afternoon-PortScan.pcap_ISCX.csv\",\n",
        "    DATA_DIR / \"Friday-WorkingHours-Morning.pcap_ISCX.csv\"\n",
        "]\n",
        "\n",
        "# Read and concatenate data, handling potential mixed types\n",
        "df = pd.concat([pd.read_csv(path, low_memory=False) for path in data_paths], ignore_index=True)\n",
        "\n",
        "# Clean column names\n",
        "df.columns = df.columns.str.strip()\n",
        "\n",
        "# Optimize memory usage\n",
        "for col in df.columns:\n",
        "    if df[col].dtype == 'float64':\n",
        "        df[col] = pd.to_numeric(df[col], downcast='float')\n",
        "    if df[col].dtype == 'int64':\n",
        "        df[col] = pd.to_numeric(df[col], downcast='integer')\n",
        "\n",
        "print(\"Initial dataset dimensions:\", df.shape)"
      ]
    },
    {
      "cell_type": "markdown",
      "metadata": {
        "id": "pjpT-h-0NKV1"
      },
      "source": [
        "#Data cleaning and preprocessing"
      ]
    },
    {
      "cell_type": "code",
      "execution_count": 13,
      "metadata": {
        "colab": {
          "base_uri": "https://localhost:8080/"
        },
        "id": "oFktQF-PM_gm",
        "outputId": "c50c5eb5-8f9f-4cae-b161-719e37a1f671"
      },
      "outputs": [
        {
          "name": "stdout",
          "output_type": "stream",
          "text": [
            "Dataset dimensions after cleaning: (2520792, 79)\n"
          ]
        }
      ],
      "source": [
        "# Drop duplicates\n",
        "df.drop_duplicates(inplace=True)\n",
        "\n",
        "# Replace infinite values with NaN and drop rows with any missing values\n",
        "df.replace([np.inf, -np.inf], np.nan, inplace=True)\n",
        "df.dropna(inplace=True)\n",
        "\n",
        "print(\"Dataset dimensions after cleaning:\", df.shape)\n",
        "\n",
        "# Group similar attacks to simplify the classification task\n",
        "attack_map = {\n",
        "    'BENIGN': 'BENIGN', 'DDoS': 'DDoS', 'DoS Hulk': 'DoS', 'DoS GoldenEye': 'DoS',\n",
        "    'DoS slowloris': 'DoS', 'DoS Slowhttptest': 'DoS', 'PortScan': 'PortScan',\n",
        "    'FTP-Patator': 'Brute Force', 'SSH-Patator': 'Brute Force', 'Bot': 'Bot',\n",
        "    'Web Attack Brute Force': 'Web Attack', 'Web Attack XSS': 'Web Attack',\n",
        "    'Web Attack Sql Injection': 'Web Attack', 'Infiltration': 'Infiltration', 'Heartbleed': 'Heartbleed'\n",
        "}\n",
        "\n",
        "# The label column name might vary, check for common names\n",
        "label_col = 'Label' if 'Label' in df.columns else ' Label'\n",
        "df['Attack Type'] = df[label_col].map(attack_map)\n",
        "df.drop(label_col, axis=1, inplace=True)\n",
        "df.dropna(subset=['Attack Type'], inplace=True) # Remove rows that weren't mapped\n",
        "\n",
        "# Encode the target variable\n",
        "le = LabelEncoder()\n",
        "df['Attack Type'] = le.fit_transform(df['Attack Type'])\n",
        "\n",
        "# Separate features (X) and target (y)\n",
        "X = df.drop('Attack Type', axis=1)\n",
        "y = df['Attack Type']\n",
        "\n",
        "# Scale numerical features\n",
        "scaler = StandardScaler()\n",
        "X_scaled = scaler.fit_transform(X)\n",
        "\n",
        "# Split data into training and testing sets\n",
        "X_train, X_test, y_train, y_test = train_test_split(\n",
        "    X_scaled, y, test_size=0.3, random_state=42, stratify=y\n",
        ")\n"
      ]
    },
    {
      "cell_type": "code",
      "execution_count": 14,
      "metadata": {
        "colab": {
          "base_uri": "https://localhost:8080/",
          "height": 411
        },
        "id": "BVRy0Zu8NgHF",
        "outputId": "ab2c9ac4-b2ec-4c6e-f026-4ef36486245a"
      },
      "outputs": [
        {
          "data": {
            "image/png": "[encoded data removed]",
            "text/plain": [
              "<Figure size 1200x600 with 1 Axes>"
            ]
          },
          "metadata": {},
          "output_type": "display_data"
        }
      ],
      "source": [
        "plt.figure(figsize=(12, 6))\n",
        "sns.countplot(y=le.inverse_transform(y))\n",
        "plt.title('Distribution of Attack Types')\n",
        "plt.xlabel('Count')\n",
        "plt.ylabel('Attack Type')\n",
        "plt.show()"
      ]
    },
    {
      "cell_type": "markdown",
      "metadata": {
        "id": "tP9255Q9Nfu0"
      },
      "source": [
        "#Optimised resampling (Under-sampling + SMOTE)"
      ]
    },
    {
      "cell_type": "code",
      "execution_count": 15,
      "metadata": {
        "colab": {
          "base_uri": "https://localhost:8080/"
        },
        "id": "7-EaUxU8Nt_W",
        "outputId": "652b7050-6291-4e3a-c93e-61c3ed23e373"
      },
      "outputs": [
        {
          "name": "stdout",
          "output_type": "stream",
          "text": [
            "\n",
            "Class distribution before resampling:\n",
            "Attack Type\n",
            "0    1466535\n",
            "4     135621\n",
            "3      89610\n",
            "7      63486\n",
            "2       6405\n",
            "1       1364\n",
            "6         25\n",
            "5          8\n",
            "Name: count, dtype: int64\n",
            "\n",
            "Class distribution after resampling:\n",
            "Attack Type\n",
            "0    200000\n",
            "1    200000\n",
            "2    200000\n",
            "3    200000\n",
            "4    200000\n",
            "5    200000\n",
            "6    200000\n",
            "7    200000\n",
            "Name: count, dtype: int64\n"
          ]
        }
      ],
      "source": [
        "print(\"\\nClass distribution before resampling:\")\n",
        "print(y_train.value_counts())\n",
        "\n",
        "# Define the resampling strategy\n",
        "under_sampler = RandomUnderSampler(sampling_strategy={le.transform(['BENIGN'])[0]: 200000})\n",
        "over_sampler = SMOTE(sampling_strategy='auto', k_neighbors=5, random_state=42)\n",
        "\n",
        "# Create the imblearn pipeline\n",
        "resampling_pipeline = ImblearnPipeline(steps=[('u', under_sampler), ('o', over_sampler)])\n",
        "\n",
        "# Apply the resampling pipeline to the training data ONLY\n",
        "X_train_resampled, y_train_resampled = resampling_pipeline.fit_resample(X_train, y_train)\n",
        "\n",
        "print(\"\\nClass distribution after resampling:\")\n",
        "print(y_train_resampled.value_counts())\n"
      ]
    },
    {
      "cell_type": "markdown",
      "metadata": {
        "id": "1Ow06Bc1OBDJ"
      },
      "source": [
        "#Train and evaluate Machine learning models (Multi-class classification)"
      ]
    },
    {
      "cell_type": "code",
      "execution_count": 18,
      "metadata": {
        "id": "bVM6gozfOhWj"
      },
      "outputs": [],
      "source": [
        "def train_and_evaluate_model(model, X_train, y_train, X_test, y_test, model_name):\n",
        "    \"\"\"Trains and evaluates a machine learning model.\"\"\"\n",
        "    print(f\"\\n--- Training {model_name} ---\")\n",
        "    model.fit(X_train, y_train)\n",
        "    y_pred = model.predict(X_test)\n",
        "\n",
        "    print(f\"\\nAccuracy for {model_name}: {accuracy_score(y_test, y_pred):.4f}\")\n",
        "    print(f\"Classification Report for {model_name}:\\n\")\n",
        "    print(classification_report(y_test, y_pred, target_names=le.classes_, zero_division=0))\n",
        "    return model\n"
      ]
    },
    {
      "cell_type": "code",
      "execution_count": 19,
      "metadata": {
        "colab": {
          "base_uri": "https://localhost:8080/"
        },
        "id": "FnKtbnZeOktt",
        "outputId": "d41bbc95-272e-459f-f8bb-fb897f6e4c73"
      },
      "outputs": [
        {
          "name": "stdout",
          "output_type": "stream",
          "text": [
            "\n",
            "--- Training Logistic Regression ---\n"
          ]
        },
        {
          "name": "stderr",
          "output_type": "stream",
          "text": [
            "/Users/princesingh/Downloads/timeseries/venv/lib/python3.11/site-packages/sklearn/linear_model/_sag.py:348: ConvergenceWarning: The max_iter was reached which means the coef_ did not converge\n",
            "  warnings.warn(\n"
          ]
        },
        {
          "name": "stdout",
          "output_type": "stream",
          "text": [
            "\n",
            "Accuracy for Logistic Regression: 0.8540\n",
            "Classification Report for Logistic Regression:\n",
            "\n",
            "              precision    recall  f1-score   support\n",
            "\n",
            "      BENIGN       1.00      0.83      0.91    628516\n",
            "         Bot       0.01      0.73      0.02       584\n",
            " Brute Force       0.13      0.97      0.23      2745\n",
            "        DDoS       0.66      1.00      0.79     38404\n",
            "         DoS       0.88      0.93      0.91     58124\n",
            "  Heartbleed       0.13      1.00      0.23         3\n",
            "Infiltration       0.00      0.73      0.01        11\n",
            "    PortScan       0.67      1.00      0.80     27208\n",
            "\n",
            "    accuracy                           0.85    755595\n",
            "   macro avg       0.44      0.90      0.49    755595\n",
            "weighted avg       0.96      0.85      0.89    755595\n",
            "\n",
            "\n",
            "--- Training Decision Tree ---\n",
            "\n",
            "Accuracy for Decision Tree: 0.9984\n",
            "Classification Report for Decision Tree:\n",
            "\n",
            "              precision    recall  f1-score   support\n",
            "\n",
            "      BENIGN       1.00      1.00      1.00    628516\n",
            "         Bot       0.59      0.97      0.74       584\n",
            " Brute Force       0.99      1.00      0.99      2745\n",
            "        DDoS       1.00      1.00      1.00     38404\n",
            "         DoS       1.00      1.00      1.00     58124\n",
            "  Heartbleed       0.50      1.00      0.67         3\n",
            "Infiltration       0.64      0.82      0.72        11\n",
            "    PortScan       0.99      1.00      0.99     27208\n",
            "\n",
            "    accuracy                           1.00    755595\n",
            "   macro avg       0.84      0.97      0.89    755595\n",
            "weighted avg       1.00      1.00      1.00    755595\n",
            "\n",
            "\n",
            "--- Training Random Forest ---\n",
            "\n",
            "Accuracy for Random Forest: 0.9985\n",
            "Classification Report for Random Forest:\n",
            "\n",
            "              precision    recall  f1-score   support\n",
            "\n",
            "      BENIGN       1.00      1.00      1.00    628516\n",
            "         Bot       0.58      0.98      0.73       584\n",
            " Brute Force       1.00      1.00      1.00      2745\n",
            "        DDoS       1.00      1.00      1.00     38404\n",
            "         DoS       0.99      1.00      1.00     58124\n",
            "  Heartbleed       0.75      1.00      0.86         3\n",
            "Infiltration       1.00      0.55      0.71        11\n",
            "    PortScan       0.99      1.00      0.99     27208\n",
            "\n",
            "    accuracy                           1.00    755595\n",
            "   macro avg       0.91      0.94      0.91    755595\n",
            "weighted avg       1.00      1.00      1.00    755595\n",
            "\n",
            "\n",
            "--- Training LightGBM ---\n",
            "[LightGBM] [Info] Auto-choosing row-wise multi-threading, the overhead of testing was 0.072188 seconds.\n",
            "You can set `force_row_wise=true` to remove the overhead.\n",
            "And if memory is not enough, you can set `force_col_wise=true`.\n",
            "[LightGBM] [Info] Total Bins 16334\n",
            "[LightGBM] [Info] Number of data points in the train set: 1600000, number of used features: 68\n",
            "[LightGBM] [Info] Start training from score -2.079442\n",
            "[LightGBM] [Info] Start training from score -2.079442\n",
            "[LightGBM] [Info] Start training from score -2.079442\n",
            "[LightGBM] [Info] Start training from score -2.079442\n",
            "[LightGBM] [Info] Start training from score -2.079442\n",
            "[LightGBM] [Info] Start training from score -2.079442\n",
            "[LightGBM] [Info] Start training from score -2.079442\n",
            "[LightGBM] [Info] Start training from score -2.079442\n",
            "[LightGBM] [Warning] No further splits with positive gain, best gain: -inf\n",
            "[LightGBM] [Warning] No further splits with positive gain, best gain: -inf\n"
          ]
        },
        {
          "name": "stderr",
          "output_type": "stream",
          "text": [
            "/Users/princesingh/Downloads/timeseries/venv/lib/python3.11/site-packages/sklearn/utils/validation.py:2749: UserWarning: X does not have valid feature names, but LGBMClassifier was fitted with feature names\n",
            "  warnings.warn(\n"
          ]
        },
        {
          "name": "stdout",
          "output_type": "stream",
          "text": [
            "\n",
            "Accuracy for LightGBM: 0.9669\n",
            "Classification Report for LightGBM:\n",
            "\n",
            "              precision    recall  f1-score   support\n",
            "\n",
            "      BENIGN       1.00      0.97      0.98    628516\n",
            "         Bot       0.19      0.97      0.31       584\n",
            " Brute Force       0.64      0.99      0.78      2745\n",
            "        DDoS       0.90      0.97      0.93     38404\n",
            "         DoS       0.92      0.95      0.93     58124\n",
            "  Heartbleed       0.00      1.00      0.00         3\n",
            "Infiltration       0.00      0.64      0.00        11\n",
            "    PortScan       0.93      0.97      0.95     27208\n",
            "\n",
            "    accuracy                           0.97    755595\n",
            "   macro avg       0.57      0.93      0.61    755595\n",
            "weighted avg       0.98      0.97      0.97    755595\n",
            "\n"
          ]
        }
      ],
      "source": [
        "# Initialize models\n",
        "lr_model = LogisticRegression(max_iter=1000, solver='saga', random_state=42)\n",
        "dt_model = DecisionTreeClassifier(random_state=42)\n",
        "rf_model = RandomForestClassifier(n_estimators=100, random_state=42, n_jobs=-1)\n",
        "lgb_model = lgb.LGBMClassifier(random_state=42, n_jobs=-1)\n",
        "\n",
        "# Train individual models\n",
        "lr_model = train_and_evaluate_model(lr_model, X_train_resampled, y_train_resampled, X_test, y_test, \"Logistic Regression\")\n",
        "dt_model = train_and_evaluate_model(dt_model, X_train_resampled, y_train_resampled, X_test, y_test, \"Decision Tree\")\n",
        "rf_model = train_and_evaluate_model(rf_model, X_train_resampled, y_train_resampled, X_test, y_test, \"Random Forest\")\n",
        "lgb_model = train_and_evaluate_model(lgb_model, X_train_resampled, y_train_resampled, X_test, y_test, \"LightGBM\")\n"
      ]
    },
    {
      "cell_type": "markdown",
      "metadata": {
        "id": "9pUdin3pPIpb"
      },
      "source": [
        "Training Ensemble Model (Voting Classifier)"
      ]
    },
    {
      "cell_type": "code",
      "execution_count": 20,
      "metadata": {
        "id": "Z8qUrh7xO_MP"
      },
      "outputs": [
        {
          "name": "stdout",
          "output_type": "stream",
          "text": [
            "\n",
            "--- Training Voting Classifier ---\n"
          ]
        },
        {
          "name": "stderr",
          "output_type": "stream",
          "text": [
            "/Users/princesingh/Downloads/timeseries/venv/lib/python3.11/site-packages/sklearn/linear_model/_sag.py:348: ConvergenceWarning: The max_iter was reached which means the coef_ did not converge\n",
            "  warnings.warn(\n"
          ]
        },
        {
          "name": "stdout",
          "output_type": "stream",
          "text": [
            "[LightGBM] [Info] Auto-choosing row-wise multi-threading, the overhead of testing was 0.078341 seconds.\n",
            "You can set `force_row_wise=true` to remove the overhead.\n",
            "And if memory is not enough, you can set `force_col_wise=true`.\n",
            "[LightGBM] [Info] Total Bins 16334\n",
            "[LightGBM] [Info] Number of data points in the train set: 1600000, number of used features: 68\n",
            "[LightGBM] [Info] Start training from score -2.079442\n",
            "[LightGBM] [Info] Start training from score -2.079442\n",
            "[LightGBM] [Info] Start training from score -2.079442\n",
            "[LightGBM] [Info] Start training from score -2.079442\n",
            "[LightGBM] [Info] Start training from score -2.079442\n",
            "[LightGBM] [Info] Start training from score -2.079442\n",
            "[LightGBM] [Info] Start training from score -2.079442\n",
            "[LightGBM] [Info] Start training from score -2.079442\n",
            "[LightGBM] [Warning] No further splits with positive gain, best gain: -inf\n",
            "[LightGBM] [Warning] No further splits with positive gain, best gain: -inf\n"
          ]
        },
        {
          "name": "stderr",
          "output_type": "stream",
          "text": [
            "/Users/princesingh/Downloads/timeseries/venv/lib/python3.11/site-packages/sklearn/utils/validation.py:2749: UserWarning: X does not have valid feature names, but LGBMClassifier was fitted with feature names\n",
            "  warnings.warn(\n"
          ]
        },
        {
          "name": "stdout",
          "output_type": "stream",
          "text": [
            "\n",
            "Accuracy for Voting Classifier: 0.9929\n",
            "Classification Report for Voting Classifier:\n",
            "\n",
            "              precision    recall  f1-score   support\n",
            "\n",
            "      BENIGN       1.00      0.99      1.00    628516\n",
            "         Bot       0.32      0.99      0.49       584\n",
            " Brute Force       0.91      1.00      0.95      2745\n",
            "        DDoS       0.99      1.00      1.00     38404\n",
            "         DoS       0.97      1.00      0.99     58124\n",
            "  Heartbleed       0.05      1.00      0.10         3\n",
            "Infiltration       0.01      0.73      0.02        11\n",
            "    PortScan       0.97      1.00      0.98     27208\n",
            "\n",
            "    accuracy                           0.99    755595\n",
            "   macro avg       0.65      0.96      0.69    755595\n",
            "weighted avg       1.00      0.99      0.99    755595\n",
            "\n"
          ]
        }
      ],
      "source": [
        "# Create a Voting Classifier with the best-performing models\n",
        "voting_clf = VotingClassifier(\n",
        "    estimators=[('lr', lr_model), ('rf', rf_model), ('lgbm', lgb_model)],\n",
        "    voting='soft'\n",
        ")\n",
        "voting_clf = train_and_evaluate_model(voting_clf, X_train_resampled, y_train_resampled, X_test, y_test, \"Voting Classifier\")"
      ]
    },
    {
      "cell_type": "markdown",
      "metadata": {
        "id": "IKGyy827Ogf6"
      },
      "source": [
        "#Deep learning (CNN-LSTM Model)"
      ]
    },
    {
      "cell_type": "code",
      "execution_count": 21,
      "metadata": {
        "id": "we2XhmJxPWUL"
      },
      "outputs": [
        {
          "name": "stderr",
          "output_type": "stream",
          "text": [
            "/Users/princesingh/Downloads/timeseries/venv/lib/python3.11/site-packages/keras/src/layers/convolutional/base_conv.py:113: UserWarning: Do not pass an `input_shape`/`input_dim` argument to a layer. When using Sequential models, prefer using an `Input(shape)` object as the first layer in the model instead.\n",
            "  super().__init__(activity_regularizer=activity_regularizer, **kwargs)\n"
          ]
        },
        {
          "data": {
            "text/html": [
              "<pre style=\"white-space:pre;overflow-x:auto;line-height:normal;font-family:Menlo,'DejaVu Sans Mono',consolas,'Courier New',monospace\"><span style=\"font-weight: bold\">Model: \"sequential\"</span>\n",
              "</pre>\n"
            ],
            "text/plain": [
              "\u001b[1mModel: \"sequential\"\u001b[0m\n"
            ]
          },
          "metadata": {},
          "output_type": "display_data"
        },
        {
          "data": {
            "text/html": [
              "<pre style=\"white-space:pre;overflow-x:auto;line-height:normal;font-family:Menlo,'DejaVu Sans Mono',consolas,'Courier New',monospace\">┏━━━━━━━━━━━━━━━━━━━━━━━━━━━━━━━━━┳━━━━━━━━━━━━━━━━━━━━━━━━┳━━━━━━━━━━━━━━━┓\n",
              "┃<span style=\"font-weight: bold\"> Layer (type)                    </span>┃<span style=\"font-weight: bold\"> Output Shape           </span>┃<span style=\"font-weight: bold\">       Param # </span>┃\n",
              "┡━━━━━━━━━━━━━━━━━━━━━━━━━━━━━━━━━╇━━━━━━━━━━━━━━━━━━━━━━━━╇━━━━━━━━━━━━━━━┩\n",
              "│ conv1d (<span style=\"color: #0087ff; text-decoration-color: #0087ff\">Conv1D</span>)                 │ (<span style=\"color: #00d7ff; text-decoration-color: #00d7ff\">None</span>, <span style=\"color: #00af00; text-decoration-color: #00af00\">76</span>, <span style=\"color: #00af00; text-decoration-color: #00af00\">64</span>)         │           <span style=\"color: #00af00; text-decoration-color: #00af00\">256</span> │\n",
              "├─────────────────────────────────┼────────────────────────┼───────────────┤\n",
              "│ max_pooling1d (<span style=\"color: #0087ff; text-decoration-color: #0087ff\">MaxPooling1D</span>)    │ (<span style=\"color: #00d7ff; text-decoration-color: #00d7ff\">None</span>, <span style=\"color: #00af00; text-decoration-color: #00af00\">38</span>, <span style=\"color: #00af00; text-decoration-color: #00af00\">64</span>)         │             <span style=\"color: #00af00; text-decoration-color: #00af00\">0</span> │\n",
              "├─────────────────────────────────┼────────────────────────┼───────────────┤\n",
              "│ dropout (<span style=\"color: #0087ff; text-decoration-color: #0087ff\">Dropout</span>)               │ (<span style=\"color: #00d7ff; text-decoration-color: #00d7ff\">None</span>, <span style=\"color: #00af00; text-decoration-color: #00af00\">38</span>, <span style=\"color: #00af00; text-decoration-color: #00af00\">64</span>)         │             <span style=\"color: #00af00; text-decoration-color: #00af00\">0</span> │\n",
              "├─────────────────────────────────┼────────────────────────┼───────────────┤\n",
              "│ lstm (<span style=\"color: #0087ff; text-decoration-color: #0087ff\">LSTM</span>)                     │ (<span style=\"color: #00d7ff; text-decoration-color: #00d7ff\">None</span>, <span style=\"color: #00af00; text-decoration-color: #00af00\">100</span>)            │        <span style=\"color: #00af00; text-decoration-color: #00af00\">66,000</span> │\n",
              "├─────────────────────────────────┼────────────────────────┼───────────────┤\n",
              "│ dropout_1 (<span style=\"color: #0087ff; text-decoration-color: #0087ff\">Dropout</span>)             │ (<span style=\"color: #00d7ff; text-decoration-color: #00d7ff\">None</span>, <span style=\"color: #00af00; text-decoration-color: #00af00\">100</span>)            │             <span style=\"color: #00af00; text-decoration-color: #00af00\">0</span> │\n",
              "├─────────────────────────────────┼────────────────────────┼───────────────┤\n",
              "│ dense (<span style=\"color: #0087ff; text-decoration-color: #0087ff\">Dense</span>)                   │ (<span style=\"color: #00d7ff; text-decoration-color: #00d7ff\">None</span>, <span style=\"color: #00af00; text-decoration-color: #00af00\">64</span>)             │         <span style=\"color: #00af00; text-decoration-color: #00af00\">6,464</span> │\n",
              "├─────────────────────────────────┼────────────────────────┼───────────────┤\n",
              "│ dense_1 (<span style=\"color: #0087ff; text-decoration-color: #0087ff\">Dense</span>)                 │ (<span style=\"color: #00d7ff; text-decoration-color: #00d7ff\">None</span>, <span style=\"color: #00af00; text-decoration-color: #00af00\">8</span>)              │           <span style=\"color: #00af00; text-decoration-color: #00af00\">520</span> │\n",
              "└─────────────────────────────────┴────────────────────────┴───────────────┘\n",
              "</pre>\n"
            ],
            "text/plain": [
              "┏━━━━━━━━━━━━━━━━━━━━━━━━━━━━━━━━━┳━━━━━━━━━━━━━━━━━━━━━━━━┳━━━━━━━━━━━━━━━┓\n",
              "┃\u001b[1m \u001b[0m\u001b[1mLayer (type)                   \u001b[0m\u001b[1m \u001b[0m┃\u001b[1m \u001b[0m\u001b[1mOutput Shape          \u001b[0m\u001b[1m \u001b[0m┃\u001b[1m \u001b[0m\u001b[1m      Param #\u001b[0m\u001b[1m \u001b[0m┃\n",
              "┡━━━━━━━━━━━━━━━━━━━━━━━━━━━━━━━━━╇━━━━━━━━━━━━━━━━━━━━━━━━╇━━━━━━━━━━━━━━━┩\n",
              "│ conv1d (\u001b[38;5;33mConv1D\u001b[0m)                 │ (\u001b[38;5;45mNone\u001b[0m, \u001b[38;5;34m76\u001b[0m, \u001b[38;5;34m64\u001b[0m)         │           \u001b[38;5;34m256\u001b[0m │\n",
              "├─────────────────────────────────┼────────────────────────┼───────────────┤\n",
              "│ max_pooling1d (\u001b[38;5;33mMaxPooling1D\u001b[0m)    │ (\u001b[38;5;45mNone\u001b[0m, \u001b[38;5;34m38\u001b[0m, \u001b[38;5;34m64\u001b[0m)         │             \u001b[38;5;34m0\u001b[0m │\n",
              "├─────────────────────────────────┼────────────────────────┼───────────────┤\n",
              "│ dropout (\u001b[38;5;33mDropout\u001b[0m)               │ (\u001b[38;5;45mNone\u001b[0m, \u001b[38;5;34m38\u001b[0m, \u001b[38;5;34m64\u001b[0m)         │             \u001b[38;5;34m0\u001b[0m │\n",
              "├─────────────────────────────────┼────────────────────────┼───────────────┤\n",
              "│ lstm (\u001b[38;5;33mLSTM\u001b[0m)                     │ (\u001b[38;5;45mNone\u001b[0m, \u001b[38;5;34m100\u001b[0m)            │        \u001b[38;5;34m66,000\u001b[0m │\n",
              "├─────────────────────────────────┼────────────────────────┼───────────────┤\n",
              "│ dropout_1 (\u001b[38;5;33mDropout\u001b[0m)             │ (\u001b[38;5;45mNone\u001b[0m, \u001b[38;5;34m100\u001b[0m)            │             \u001b[38;5;34m0\u001b[0m │\n",
              "├─────────────────────────────────┼────────────────────────┼───────────────┤\n",
              "│ dense (\u001b[38;5;33mDense\u001b[0m)                   │ (\u001b[38;5;45mNone\u001b[0m, \u001b[38;5;34m64\u001b[0m)             │         \u001b[38;5;34m6,464\u001b[0m │\n",
              "├─────────────────────────────────┼────────────────────────┼───────────────┤\n",
              "│ dense_1 (\u001b[38;5;33mDense\u001b[0m)                 │ (\u001b[38;5;45mNone\u001b[0m, \u001b[38;5;34m8\u001b[0m)              │           \u001b[38;5;34m520\u001b[0m │\n",
              "└─────────────────────────────────┴────────────────────────┴───────────────┘\n"
            ]
          },
          "metadata": {},
          "output_type": "display_data"
        },
        {
          "data": {
            "text/html": [
              "<pre style=\"white-space:pre;overflow-x:auto;line-height:normal;font-family:Menlo,'DejaVu Sans Mono',consolas,'Courier New',monospace\"><span style=\"font-weight: bold\"> Total params: </span><span style=\"color: #00af00; text-decoration-color: #00af00\">73,240</span> (286.09 KB)\n",
              "</pre>\n"
            ],
            "text/plain": [
              "\u001b[1m Total params: \u001b[0m\u001b[38;5;34m73,240\u001b[0m (286.09 KB)\n"
            ]
          },
          "metadata": {},
          "output_type": "display_data"
        },
        {
          "data": {
            "text/html": [
              "<pre style=\"white-space:pre;overflow-x:auto;line-height:normal;font-family:Menlo,'DejaVu Sans Mono',consolas,'Courier New',monospace\"><span style=\"font-weight: bold\"> Trainable params: </span><span style=\"color: #00af00; text-decoration-color: #00af00\">73,240</span> (286.09 KB)\n",
              "</pre>\n"
            ],
            "text/plain": [
              "\u001b[1m Trainable params: \u001b[0m\u001b[38;5;34m73,240\u001b[0m (286.09 KB)\n"
            ]
          },
          "metadata": {},
          "output_type": "display_data"
        },
        {
          "data": {
            "text/html": [
              "<pre style=\"white-space:pre;overflow-x:auto;line-height:normal;font-family:Menlo,'DejaVu Sans Mono',consolas,'Courier New',monospace\"><span style=\"font-weight: bold\"> Non-trainable params: </span><span style=\"color: #00af00; text-decoration-color: #00af00\">0</span> (0.00 B)\n",
              "</pre>\n"
            ],
            "text/plain": [
              "\u001b[1m Non-trainable params: \u001b[0m\u001b[38;5;34m0\u001b[0m (0.00 B)\n"
            ]
          },
          "metadata": {},
          "output_type": "display_data"
        },
        {
          "name": "stdout",
          "output_type": "stream",
          "text": [
            "Epoch 1/10\n",
            "\u001b[1m2500/2500\u001b[0m \u001b[32m━━━━━━━━━━━━━━━━━━━━\u001b[0m\u001b[37m\u001b[0m \u001b[1m247s\u001b[0m 98ms/step - accuracy: 0.9348 - loss: 0.1909 - val_accuracy: 0.9745 - val_loss: 0.0877\n",
            "Epoch 2/10\n",
            "\u001b[1m2500/2500\u001b[0m \u001b[32m━━━━━━━━━━━━━━━━━━━━\u001b[0m\u001b[37m\u001b[0m \u001b[1m243s\u001b[0m 97ms/step - accuracy: 0.9812 - loss: 0.0592 - val_accuracy: 0.9924 - val_loss: 0.0396\n",
            "Epoch 3/10\n",
            "\u001b[1m2500/2500\u001b[0m \u001b[32m━━━━━━━━━━━━━━━━━━━━\u001b[0m\u001b[37m\u001b[0m \u001b[1m228s\u001b[0m 91ms/step - accuracy: 0.9850 - loss: 0.0470 - val_accuracy: 0.9973 - val_loss: 0.0423\n",
            "Epoch 4/10\n",
            "\u001b[1m2500/2500\u001b[0m \u001b[32m━━━━━━━━━━━━━━━━━━━━\u001b[0m\u001b[37m\u001b[0m \u001b[1m243s\u001b[0m 97ms/step - accuracy: 0.9866 - loss: 0.0416 - val_accuracy: 0.9970 - val_loss: 0.0285\n",
            "Epoch 5/10\n",
            "\u001b[1m2500/2500\u001b[0m \u001b[32m━━━━━━━━━━━━━━━━━━━━\u001b[0m\u001b[37m\u001b[0m \u001b[1m249s\u001b[0m 99ms/step - accuracy: 0.9877 - loss: 0.0385 - val_accuracy: 0.9913 - val_loss: 0.0563\n",
            "Epoch 6/10\n",
            "\u001b[1m2500/2500\u001b[0m \u001b[32m━━━━━━━━━━━━━━━━━━━━\u001b[0m\u001b[37m\u001b[0m \u001b[1m249s\u001b[0m 100ms/step - accuracy: 0.9887 - loss: 0.0357 - val_accuracy: 0.9989 - val_loss: 0.0222\n",
            "Epoch 7/10\n",
            "\u001b[1m2500/2500\u001b[0m \u001b[32m━━━━━━━━━━━━━━━━━━━━\u001b[0m\u001b[37m\u001b[0m \u001b[1m736s\u001b[0m 294ms/step - accuracy: 0.9893 - loss: 0.0335 - val_accuracy: 0.9995 - val_loss: 0.0126\n",
            "Epoch 8/10\n",
            "\u001b[1m2500/2500\u001b[0m \u001b[32m━━━━━━━━━━━━━━━━━━━━\u001b[0m\u001b[37m\u001b[0m \u001b[1m257s\u001b[0m 103ms/step - accuracy: 0.9897 - loss: 0.0320 - val_accuracy: 0.9990 - val_loss: 0.0189\n",
            "Epoch 9/10\n",
            "\u001b[1m2500/2500\u001b[0m \u001b[32m━━━━━━━━━━━━━━━━━━━━\u001b[0m\u001b[37m\u001b[0m \u001b[1m260s\u001b[0m 104ms/step - accuracy: 0.9898 - loss: 0.0314 - val_accuracy: 0.9994 - val_loss: 0.0157\n",
            "Epoch 10/10\n",
            "\u001b[1m2500/2500\u001b[0m \u001b[32m━━━━━━━━━━━━━━━━━━━━\u001b[0m\u001b[37m\u001b[0m \u001b[1m255s\u001b[0m 102ms/step - accuracy: 0.9901 - loss: 0.0304 - val_accuracy: 0.9961 - val_loss: 0.0389\n"
          ]
        }
      ],
      "source": [
        "X_train_dl = np.reshape(X_train_resampled, (X_train_resampled.shape[0], X_train_resampled.shape[1], 1))\n",
        "X_test_dl = np.reshape(X_test, (X_test.shape[0], X_test.shape[1], 1))\n",
        "\n",
        "# The target variable does not need to be one-hot encoded if using 'sparse_categorical_crossentropy'\n",
        "y_train_dl = y_train_resampled\n",
        "y_test_dl = y_test\n",
        "\n",
        "# Define the CNN-LSTM model\n",
        "cnn_lstm_model = Sequential([\n",
        "    Conv1D(filters=64, kernel_size=3, activation='relu', input_shape=(X_train_dl.shape[1], 1)),\n",
        "    MaxPooling1D(pool_size=2),\n",
        "    Dropout(0.3),\n",
        "    LSTM(100, activation='tanh', return_sequences=False),\n",
        "    Dropout(0.3),\n",
        "    Dense(64, activation='relu'),\n",
        "    Dense(len(le.classes_), activation='softmax')\n",
        "])\n",
        "\n",
        "# Compile the model\n",
        "cnn_lstm_model.compile(\n",
        "    optimizer=tf.keras.optimizers.Adam(learning_rate=0.001),\n",
        "    loss='sparse_categorical_crossentropy',\n",
        "    metrics=['accuracy']\n",
        ")\n",
        "\n",
        "cnn_lstm_model.summary()\n",
        "\n",
        "# Train the model\n",
        "history = cnn_lstm_model.fit(\n",
        "    X_train_dl, y_train_dl,\n",
        "    epochs=10,\n",
        "    batch_size=512,\n",
        "    validation_split=0.2,\n",
        "    verbose=1\n",
        ")"
      ]
    },
    {
      "cell_type": "markdown",
      "metadata": {
        "id": "sml_OxBfNbqL"
      },
      "source": [
        "#Anomaly Detection"
      ]
    },
    {
      "cell_type": "code",
      "execution_count": 31,
      "metadata": {
        "id": "9y0CuaFdPo70"
      },
      "outputs": [],
      "source": [
        "# We'll label BENIGN as 1 (normal) and all attacks as -1 (anomaly).\n",
        "benign_label_numeric = le.transform(['BENIGN'])[0]\n",
        "X_train_benign = X_train[y_train == benign_label_numeric] \n",
        "y_train_anomaly = np.where(y_train == benign_label_numeric, 1, -1)\n",
        "y_test_anomaly = np.where(y_test == benign_label_numeric, 1, -1)\n",
        "\n",
        "# Initialize results list to store evaluation metrics\n",
        "results = []"
      ]
    },
    {
      "cell_type": "markdown",
      "metadata": {
        "id": "xBhqMGNoP6Qb"
      },
      "source": [
        "Training Isolation Forest"
      ]
    },
    {
      "cell_type": "code",
      "execution_count": 32,
      "metadata": {
        "id": "6xn9Mtp1Po5j"
      },
      "outputs": [
        {
          "name": "stdout",
          "output_type": "stream",
          "text": [
            "Accuracy for Isolation Forest: 0.8230652664456488\n",
            "Classification Report for Isolation Forest:\n",
            "               precision    recall  f1-score   support\n",
            "\n",
            "          -1       0.46      0.27      0.34    127079\n",
            "           1       0.86      0.93      0.90    628516\n",
            "\n",
            "    accuracy                           0.82    755595\n",
            "   macro avg       0.66      0.60      0.62    755595\n",
            "weighted avg       0.80      0.82      0.80    755595\n",
            "\n"
          ]
        }
      ],
      "source": [
        "iso_forest = IsolationForest(contamination='auto', random_state=42, n_jobs=-1)\n",
        "iso_forest.fit(X_train)\n",
        "\n",
        "y_pred_iso = iso_forest.predict(X_test)\n",
        "print(\"Accuracy for Isolation Forest:\", accuracy_score(y_test_anomaly, y_pred_iso))\n",
        "print(\"Classification Report for Isolation Forest:\\n\", classification_report(y_test_anomaly, y_pred_iso, zero_division=0))\n",
        "results.append({\n",
        "    'model': 'Isolation Forest',\n",
        "    'accuracy': accuracy_score(y_test_anomaly, y_pred_iso),\n",
        "    'report': classification_report(y_test_anomaly, y_pred_iso, output_dict=True, zero_division=0)\n",
        "})"
      ]
    },
    {
      "cell_type": "markdown",
      "metadata": {
        "id": "8lmMQGIGQXUE"
      },
      "source": [
        "Local Outlier Factor (LOF) with GridSearchCV"
      ]
    },
    {
      "cell_type": "code",
      "execution_count": 36,
      "metadata": {
        "id": "9v0DgRVMP3gp"
      },
      "outputs": [
        {
          "name": "stdout",
          "output_type": "stream",
          "text": [
            "n_neighbors: 5, F1-Score: 0.6468\n",
            "n_neighbors: 10, F1-Score: 0.6479\n",
            "n_neighbors: 15, F1-Score: 0.6463\n",
            "--- Local Outlier Factor ---\n",
            "Best Parameters: {'n_neighbors': 10}\n",
            "Accuracy: 0.867791607938115\n",
            "Classification Report:\n",
            "               precision    recall  f1-score   support\n",
            "\n",
            "          -1       0.59      0.72      0.65    127079\n",
            "           1       0.94      0.90      0.92    628516\n",
            "\n",
            "    accuracy                           0.87    755595\n",
            "   macro avg       0.76      0.81      0.78    755595\n",
            "weighted avg       0.88      0.87      0.87    755595\n",
            "\n"
          ]
        }
      ],
      "source": [
        "def anomaly_f1_score(y_true, y_pred):\n",
        "    return f1_score(y_true, y_pred, average='binary', pos_label=-1)\n",
        "\n",
        "scorer = make_scorer(anomaly_f1_score)\n",
        "\n",
        "# Train LOF on benign data only\n",
        "lof = LocalOutlierFactor(novelty=True, contamination=0.1)\n",
        "\n",
        "# Define the parameter grid for GridSearchCV\n",
        "params = {'n_neighbors': [5, 10, 15]}\n",
        "\n",
        "# Perform manual cross-validation for LOF\n",
        "best_params = None\n",
        "best_f1 = -1\n",
        "for n_neighbors in params['n_neighbors']:\n",
        "    lof.set_params(n_neighbors=n_neighbors)\n",
        "    lof.fit(X_train_benign)  \n",
        "    y_pred_lof = lof.predict(X_test) \n",
        "    f1 = f1_score(y_test_anomaly, y_pred_lof, average='binary', pos_label=-1) \n",
        "    print(f\"n_neighbors: {n_neighbors}, F1-Score: {f1:.4f}\")\n",
        "    if f1 > best_f1:\n",
        "        best_f1 = f1\n",
        "        best_params = {'n_neighbors': n_neighbors}\n",
        "\n",
        "# Train the best LOF model\n",
        "lof.set_params(**best_params)\n",
        "lof.fit(X_train_benign)\n",
        "y_pred_lof = lof.predict(X_test)\n",
        "\n",
        "# Evaluate the best LOF model\n",
        "print(\"--- Local Outlier Factor ---\")\n",
        "print(\"Best Parameters:\", best_params)\n",
        "print(\"Accuracy:\", accuracy_score(y_test_anomaly, y_pred_lof))\n",
        "print(\"Classification Report:\\n\", classification_report(y_test_anomaly, y_pred_lof, zero_division=0))\n",
        "results.append({\n",
        "    'model': 'Local Outlier Factor',\n",
        "    'accuracy': accuracy_score(y_test_anomaly, y_pred_lof),\n",
        "    'report': classification_report(y_test_anomaly, y_pred_lof, output_dict=True, zero_division=0)\n",
        "})"
      ]
    },
    {
      "cell_type": "markdown",
      "metadata": {
        "id": "Az5weSM0QlgL"
      },
      "source": [
        "#Deep learning"
      ]
    },
    {
      "cell_type": "markdown",
      "metadata": {
        "id": "GFsWML_CQyXj"
      },
      "source": [
        "Autoencoder with KerasTuner"
      ]
    },
    {
      "cell_type": "code",
      "execution_count": 34,
      "metadata": {
        "id": "cg89MMLnR3xx"
      },
      "outputs": [
        {
          "name": "stdout",
          "output_type": "stream",
          "text": [
            "Epoch 1/20\n",
            "\u001b[1m4583/4583\u001b[0m \u001b[32m━━━━━━━━━━━━━━━━━━━━\u001b[0m\u001b[37m\u001b[0m \u001b[1m10s\u001b[0m 2ms/step - loss: 0.6384 - val_loss: 0.8053\n",
            "Epoch 2/20\n",
            "\u001b[1m4583/4583\u001b[0m \u001b[32m━━━━━━━━━━━━━━━━━━━━\u001b[0m\u001b[37m\u001b[0m \u001b[1m8s\u001b[0m 2ms/step - loss: 0.6250 - val_loss: 0.8043\n",
            "Epoch 3/20\n",
            "\u001b[1m4583/4583\u001b[0m \u001b[32m━━━━━━━━━━━━━━━━━━━━\u001b[0m\u001b[37m\u001b[0m \u001b[1m8s\u001b[0m 2ms/step - loss: 0.6234 - val_loss: 0.7985\n",
            "Epoch 4/20\n",
            "\u001b[1m4583/4583\u001b[0m \u001b[32m━━━━━━━━━━━━━━━━━━━━\u001b[0m\u001b[37m\u001b[0m \u001b[1m8s\u001b[0m 2ms/step - loss: 0.6187 - val_loss: 0.7984\n",
            "Epoch 5/20\n",
            "\u001b[1m4583/4583\u001b[0m \u001b[32m━━━━━━━━━━━━━━━━━━━━\u001b[0m\u001b[37m\u001b[0m \u001b[1m8s\u001b[0m 2ms/step - loss: 0.6174 - val_loss: 0.7963\n",
            "Epoch 6/20\n",
            "\u001b[1m4583/4583\u001b[0m \u001b[32m━━━━━━━━━━━━━━━━━━━━\u001b[0m\u001b[37m\u001b[0m \u001b[1m8s\u001b[0m 2ms/step - loss: 0.6165 - val_loss: 0.7963\n",
            "Epoch 7/20\n",
            "\u001b[1m4583/4583\u001b[0m \u001b[32m━━━━━━━━━━━━━━━━━━━━\u001b[0m\u001b[37m\u001b[0m \u001b[1m9s\u001b[0m 2ms/step - loss: 0.6163 - val_loss: 0.7962\n",
            "Epoch 8/20\n",
            "\u001b[1m4583/4583\u001b[0m \u001b[32m━━━━━━━━━━━━━━━━━━━━\u001b[0m\u001b[37m\u001b[0m \u001b[1m8s\u001b[0m 2ms/step - loss: 0.6161 - val_loss: 0.7957\n",
            "Epoch 9/20\n",
            "\u001b[1m4583/4583\u001b[0m \u001b[32m━━━━━━━━━━━━━━━━━━━━\u001b[0m\u001b[37m\u001b[0m \u001b[1m8s\u001b[0m 2ms/step - loss: 0.6162 - val_loss: 0.7969\n",
            "Epoch 10/20\n",
            "\u001b[1m4583/4583\u001b[0m \u001b[32m━━━━━━━━━━━━━━━━━━━━\u001b[0m\u001b[37m\u001b[0m \u001b[1m11s\u001b[0m 2ms/step - loss: 0.6169 - val_loss: 0.7967\n",
            "Epoch 11/20\n",
            "\u001b[1m4583/4583\u001b[0m \u001b[32m━━━━━━━━━━━━━━━━━━━━\u001b[0m\u001b[37m\u001b[0m \u001b[1m9s\u001b[0m 2ms/step - loss: 0.6165 - val_loss: 0.7964\n",
            "Epoch 12/20\n",
            "\u001b[1m4583/4583\u001b[0m \u001b[32m━━━━━━━━━━━━━━━━━━━━\u001b[0m\u001b[37m\u001b[0m \u001b[1m9s\u001b[0m 2ms/step - loss: 0.6160 - val_loss: 0.7956\n",
            "Epoch 13/20\n",
            "\u001b[1m4583/4583\u001b[0m \u001b[32m━━━━━━━━━━━━━━━━━━━━\u001b[0m\u001b[37m\u001b[0m \u001b[1m9s\u001b[0m 2ms/step - loss: 0.6157 - val_loss: 0.7967\n",
            "Epoch 14/20\n",
            "\u001b[1m4583/4583\u001b[0m \u001b[32m━━━━━━━━━━━━━━━━━━━━\u001b[0m\u001b[37m\u001b[0m \u001b[1m9s\u001b[0m 2ms/step - loss: 0.6157 - val_loss: 0.7956\n",
            "Epoch 15/20\n",
            "\u001b[1m4583/4583\u001b[0m \u001b[32m━━━━━━━━━━━━━━━━━━━━\u001b[0m\u001b[37m\u001b[0m \u001b[1m8s\u001b[0m 2ms/step - loss: 0.6157 - val_loss: 0.7956\n",
            "Epoch 16/20\n",
            "\u001b[1m4583/4583\u001b[0m \u001b[32m━━━━━━━━━━━━━━━━━━━━\u001b[0m\u001b[37m\u001b[0m \u001b[1m9s\u001b[0m 2ms/step - loss: 0.6158 - val_loss: 0.7956\n",
            "Epoch 17/20\n",
            "\u001b[1m4583/4583\u001b[0m \u001b[32m━━━━━━━━━━━━━━━━━━━━\u001b[0m\u001b[37m\u001b[0m \u001b[1m8s\u001b[0m 2ms/step - loss: 0.6157 - val_loss: 0.7955\n",
            "Epoch 18/20\n",
            "\u001b[1m4583/4583\u001b[0m \u001b[32m━━━━━━━━━━━━━━━━━━━━\u001b[0m\u001b[37m\u001b[0m \u001b[1m8s\u001b[0m 2ms/step - loss: 0.6157 - val_loss: 0.7966\n",
            "Epoch 19/20\n",
            "\u001b[1m4583/4583\u001b[0m \u001b[32m━━━━━━━━━━━━━━━━━━━━\u001b[0m\u001b[37m\u001b[0m \u001b[1m8s\u001b[0m 2ms/step - loss: 0.6158 - val_loss: 0.7955\n",
            "Epoch 20/20\n",
            "\u001b[1m4583/4583\u001b[0m \u001b[32m━━━━━━━━━━━━━━━━━━━━\u001b[0m\u001b[37m\u001b[0m \u001b[1m9s\u001b[0m 2ms/step - loss: 0.6157 - val_loss: 0.7956\n",
            "\u001b[1m23613/23613\u001b[0m \u001b[32m━━━━━━━━━━━━━━━━━━━━\u001b[0m\u001b[37m\u001b[0m \u001b[1m7s\u001b[0m 280us/step\n",
            "Anomaly threshold (MSE): 0.9404125689562137\n",
            "\n",
            "Accuracy for Autoencoder: 0.8371151211958787\n",
            "Classification Report for Autoencoder:\n",
            "               precision    recall  f1-score   support\n",
            "\n",
            "          -1       0.53      0.28      0.37    127079\n",
            "           1       0.87      0.95      0.91    628516\n",
            "\n",
            "    accuracy                           0.84    755595\n",
            "   macro avg       0.70      0.61      0.64    755595\n",
            "weighted avg       0.81      0.84      0.82    755595\n",
            "\n"
          ]
        }
      ],
      "source": [
        "# We train the autoencoder ONLY on benign (normal) data.\n",
        "X_train_benign = X_train[y_train == benign_label_numeric]\n",
        "\n",
        "# Define the Autoencoder architecture\n",
        "input_dim = X_train_benign.shape[1]\n",
        "encoding_dim = 32\n",
        "\n",
        "input_layer = Input(shape=(input_dim,))\n",
        "encoder = Dense(128, activation=\"relu\")(input_layer)\n",
        "encoder = Dense(64, activation=\"relu\")(encoder)\n",
        "encoder = Dense(encoding_dim, activation=\"relu\")(encoder)\n",
        "\n",
        "decoder = Dense(64, activation='relu')(encoder)\n",
        "decoder = Dense(128, activation='relu')(decoder)\n",
        "decoder = Dense(input_dim, activation='sigmoid')(decoder) \n",
        "\n",
        "autoencoder = Model(inputs=input_layer, outputs=decoder)\n",
        "autoencoder.compile(optimizer='adam', loss='mean_squared_error')\n",
        "\n",
        "autoencoder.fit(\n",
        "    X_train_benign, X_train_benign,\n",
        "    epochs=20,\n",
        "    batch_size=256,\n",
        "    shuffle=True,\n",
        "    validation_split=0.2,\n",
        "    verbose=1\n",
        ")\n",
        "\n",
        "# Evaluate the Autoencoder\n",
        "reconstructions = autoencoder.predict(X_test)\n",
        "mse = np.mean(np.power(X_test - reconstructions, 2), axis=1)\n",
        "\n",
        "\n",
        "benign_test_indices = np.where(y_test == benign_label_numeric)[0]\n",
        "threshold = np.quantile(mse[benign_test_indices], 0.95)\n",
        "print(f\"Anomaly threshold (MSE): {threshold}\")\n",
        "\n",
        "y_pred_auto = np.where(mse > threshold, -1, 1)\n",
        "\n",
        "print(\"\\nAccuracy for Autoencoder:\", accuracy_score(y_test_anomaly, y_pred_auto))\n",
        "print(\"Classification Report for Autoencoder:\\n\", classification_report(y_test_anomaly, y_pred_auto, zero_division=0))\n",
        "\n",
        "results.append({\n",
        "    'model': 'Autoencoder',\n",
        "    'accuracy': accuracy_score(y_test_anomaly, y_pred_auto),\n",
        "    'report': classification_report(y_test_anomaly, y_pred_auto, output_dict=True, zero_division=0)\n",
        "})"
      ]
    },
    {
      "cell_type": "markdown",
      "metadata": {
        "id": "2cx6M8S3Q3hy"
      },
      "source": [
        "Time-Series Approach (1D-CNN)"
      ]
    },
    {
      "cell_type": "code",
      "execution_count": 35,
      "metadata": {
        "id": "uZrxF1jsQ6hL"
      },
      "outputs": [
        {
          "name": "stderr",
          "output_type": "stream",
          "text": [
            "/Users/princesingh/Downloads/timeseries/venv/lib/python3.11/site-packages/keras/src/layers/convolutional/base_conv.py:113: UserWarning: Do not pass an `input_shape`/`input_dim` argument to a layer. When using Sequential models, prefer using an `Input(shape)` object as the first layer in the model instead.\n",
            "  super().__init__(activity_regularizer=activity_regularizer, **kwargs)\n"
          ]
        },
        {
          "name": "stdout",
          "output_type": "stream",
          "text": [
            "Epoch 1/10\n",
            "\u001b[1m4583/4583\u001b[0m \u001b[32m━━━━━━━━━━━━━━━━━━━━\u001b[0m\u001b[37m\u001b[0m \u001b[1m28s\u001b[0m 6ms/step - accuracy: 1.0000 - loss: 5.4550e-04 - val_accuracy: 1.0000 - val_loss: 1.4190e-07\n",
            "Epoch 2/10\n",
            "\u001b[1m4583/4583\u001b[0m \u001b[32m━━━━━━━━━━━━━━━━━━━━\u001b[0m\u001b[37m\u001b[0m \u001b[1m25s\u001b[0m 6ms/step - accuracy: 1.0000 - loss: 4.9345e-08 - val_accuracy: 1.0000 - val_loss: 1.3194e-08\n",
            "Epoch 3/10\n",
            "\u001b[1m4583/4583\u001b[0m \u001b[32m━━━━━━━━━━━━━━━━━━━━\u001b[0m\u001b[37m\u001b[0m \u001b[1m26s\u001b[0m 6ms/step - accuracy: 1.0000 - loss: 8.7562e-09 - val_accuracy: 1.0000 - val_loss: 5.6188e-09\n",
            "Epoch 4/10\n",
            "\u001b[1m4583/4583\u001b[0m \u001b[32m━━━━━━━━━━━━━━━━━━━━\u001b[0m\u001b[37m\u001b[0m \u001b[1m25s\u001b[0m 5ms/step - accuracy: 1.0000 - loss: 3.8308e-09 - val_accuracy: 1.0000 - val_loss: 2.4628e-09\n",
            "Epoch 5/10\n",
            "\u001b[1m4583/4583\u001b[0m \u001b[32m━━━━━━━━━━━━━━━━━━━━\u001b[0m\u001b[37m\u001b[0m \u001b[1m25s\u001b[0m 5ms/step - accuracy: 1.0000 - loss: 1.8623e-09 - val_accuracy: 1.0000 - val_loss: 1.5721e-09\n",
            "Epoch 6/10\n",
            "\u001b[1m4583/4583\u001b[0m \u001b[32m━━━━━━━━━━━━━━━━━━━━\u001b[0m\u001b[37m\u001b[0m \u001b[1m25s\u001b[0m 6ms/step - accuracy: 1.0000 - loss: 1.4931e-09 - val_accuracy: 1.0000 - val_loss: 1.4235e-09\n",
            "Epoch 7/10\n",
            "\u001b[1m4583/4583\u001b[0m \u001b[32m━━━━━━━━━━━━━━━━━━━━\u001b[0m\u001b[37m\u001b[0m \u001b[1m24s\u001b[0m 5ms/step - accuracy: 1.0000 - loss: 1.3995e-09 - val_accuracy: 1.0000 - val_loss: 1.3710e-09\n",
            "Epoch 8/10\n",
            "\u001b[1m4583/4583\u001b[0m \u001b[32m━━━━━━━━━━━━━━━━━━━━\u001b[0m\u001b[37m\u001b[0m \u001b[1m24s\u001b[0m 5ms/step - accuracy: 1.0000 - loss: 1.3628e-09 - val_accuracy: 1.0000 - val_loss: 1.3556e-09\n",
            "Epoch 9/10\n",
            "\u001b[1m4583/4583\u001b[0m \u001b[32m━━━━━━━━━━━━━━━━━━━━\u001b[0m\u001b[37m\u001b[0m \u001b[1m25s\u001b[0m 5ms/step - accuracy: 1.0000 - loss: 1.3496e-09 - val_accuracy: 1.0000 - val_loss: 1.3397e-09\n",
            "Epoch 10/10\n",
            "\u001b[1m4583/4583\u001b[0m \u001b[32m━━━━━━━━━━━━━━━━━━━━\u001b[0m\u001b[37m\u001b[0m \u001b[1m26s\u001b[0m 6ms/step - accuracy: 1.0000 - loss: 1.3381e-09 - val_accuracy: 1.0000 - val_loss: 1.3294e-09\n",
            "\u001b[1m23613/23613\u001b[0m \u001b[32m━━━━━━━━━━━━━━━━━━━━\u001b[0m\u001b[37m\u001b[0m \u001b[1m13s\u001b[0m 551us/step\n",
            "--- 1D-CNN ---\n",
            "Accuracy: 0.8318159860771974\n",
            "Classification Report:\n",
            "               precision    recall  f1-score   support\n",
            "\n",
            "          -1       0.00      0.00      0.00    127079\n",
            "           1       0.83      1.00      0.91    628516\n",
            "\n",
            "    accuracy                           0.83    755595\n",
            "   macro avg       0.42      0.50      0.45    755595\n",
            "weighted avg       0.69      0.83      0.76    755595\n",
            "\n"
          ]
        }
      ],
      "source": [
        "# Reshape data for 1D-CNN\n",
        "X_train_cnn = X_train_benign.reshape((X_train_benign.shape[0], X_train_benign.shape[1], 1))\n",
        "X_test_cnn = X_test.reshape((X_test.shape[0], X_test.shape[1], 1))\n",
        "\n",
        "cnn_model = Sequential([\n",
        "    Conv1D(filters=64, kernel_size=3, activation='relu', input_shape=(X_train_cnn.shape[1], 1)),\n",
        "    MaxPooling1D(pool_size=2),\n",
        "    Flatten(),\n",
        "    Dense(50, activation='relu'),\n",
        "    Dense(1, activation='sigmoid') \n",
        "])\n",
        "cnn_model.compile(optimizer='adam', loss='binary_crossentropy', metrics=['accuracy'])\n",
        "\n",
        "y_train_cnn = np.ones(X_train_cnn.shape[0])  \n",
        "\n",
        "cnn_model.fit(X_train_cnn, y_train_cnn, epochs=10, batch_size=256, validation_split=0.2, verbose=1)\n",
        "\n",
        "# Evaluate the 1D-CNN\n",
        "y_pred_cnn = cnn_model.predict(X_test_cnn)\n",
        "y_pred_cnn = np.where(y_pred_cnn > 0.5, 1, -1) \n",
        "\n",
        "print(\"--- 1D-CNN ---\")\n",
        "print(\"Accuracy:\", accuracy_score(y_test_anomaly, y_pred_cnn))\n",
        "print(\"Classification Report:\\n\", classification_report(y_test_anomaly, y_pred_cnn, zero_division=0))\n",
        "results.append({\n",
        "    'model': '1D-CNN',\n",
        "    'accuracy': accuracy_score(y_test_anomaly, y_pred_cnn),\n",
        "    'report': classification_report(y_test_anomaly, y_pred_cnn, output_dict=True, zero_division=0)\n",
        "})"
      ]
    },
    {
      "cell_type": "code",
      "execution_count": 37,
      "metadata": {},
      "outputs": [
        {
          "name": "stdout",
          "output_type": "stream",
          "text": [
            "\n",
            "--- Performance Comparison of Anomaly Detection Models ---\n",
            "                  Model  Accuracy  Precision    Recall  F1-Score\n",
            "0      Isolation Forest  0.823065   0.456531  0.273224  0.341855\n",
            "1           Autoencoder  0.837115   0.529945  0.278803  0.365380\n",
            "2                1D-CNN  0.831816   0.000000  0.000000  0.000000\n",
            "3  Local Outlier Factor  0.867792   0.586757  0.723345  0.647931\n"
          ]
        },
        {
          "data": {
            "image/png": "[encoded data removed]",
            "text/plain": [
              "<Figure size 1200x600 with 1 Axes>"
            ]
          },
          "metadata": {},
          "output_type": "display_data"
        }
      ],
      "source": [
        "# Extract key metrics from the results\n",
        "comparison_data = []\n",
        "for result in results:\n",
        "    model_name = result['model']\n",
        "    report = result['report']\n",
        "    accuracy = result['accuracy']\n",
        "    precision = report['-1']['precision']  \n",
        "    recall = report['-1']['recall']       \n",
        "    f1_score = report['-1']['f1-score']    \n",
        "    comparison_data.append({\n",
        "        'Model': model_name,\n",
        "        'Accuracy': accuracy,\n",
        "        'Precision': precision,\n",
        "        'Recall': recall,\n",
        "        'F1-Score': f1_score\n",
        "    })\n",
        "\n",
        "comparison_df = pd.DataFrame(comparison_data)\n",
        "\n",
        "# Display the comparison table\n",
        "print(\"\\n--- Performance Comparison of Anomaly Detection Models ---\")\n",
        "print(comparison_df)\n",
        "\n",
        "comparison_df.set_index('Model')[['Accuracy', 'Precision', 'Recall', 'F1-Score']].plot(\n",
        "    kind='bar', figsize=(12, 6), title='Performance Comparison of Anomaly Detection Models'\n",
        ")\n",
        "plt.ylabel('Score')\n",
        "plt.xticks(rotation=45)\n",
        "plt.legend(loc='lower right')\n",
        "plt.show()"
      ]
    }
  ],
  "metadata": {
    "accelerator": "TPU",
    "colab": {
      "gpuType": "V5E1",
      "provenance": []
    },
    "kernelspec": {
      "display_name": "venv",
      "language": "python",
      "name": "python3"
    },
    "language_info": {
      "codemirror_mode": {
        "name": "ipython",
        "version": 3
      },
      "file_extension": ".py",
      "mimetype": "text/x-python",
      "name": "python",
      "nbconvert_exporter": "python",
      "pygments_lexer": "ipython3",
      "version": "3.11.3"
    }
  },
  "nbformat": 4,
  "nbformat_minor": 0
}
